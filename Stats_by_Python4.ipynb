{
  "nbformat": 4,
  "nbformat_minor": 0,
  "metadata": {
    "colab": {
      "name": "Stats_by_Python4.ipynb",
      "provenance": [],
      "collapsed_sections": [],
      "mount_file_id": "1fSBEBQgm-IxwS-vnebfiIy9It1vDuj9h",
      "authorship_tag": "ABX9TyPPCMFKRVPOKX7T19DatXPO",
      "include_colab_link": true
    },
    "kernelspec": {
      "name": "python3",
      "display_name": "Python 3"
    },
    "language_info": {
      "name": "python"
    }
  },
  "cells": [
    {
      "cell_type": "markdown",
      "metadata": {
        "id": "view-in-github",
        "colab_type": "text"
      },
      "source": [
        "<a href=\"https://colab.research.google.com/github/kimdesok/Statistical-Thinking-in-Python-Part-1-/blob/main/Stats_by_Python4.ipynb\" target=\"_parent\"><img src=\"https://colab.research.google.com/assets/colab-badge.svg\" alt=\"Open In Colab\"/></a>"
      ]
    },
    {
      "cell_type": "markdown",
      "metadata": {
        "id": "aBAeQ-yCGZe4"
      },
      "source": [
        "#Probability density functions\n",
        ">* Continuous Prob. Distr.\n",
        ">* Cumulative Density Functions"
      ]
    },
    {
      "cell_type": "code",
      "metadata": {
        "colab": {
          "base_uri": "https://localhost:8080/",
          "height": 1000
        },
        "id": "fzWepFErdW5o",
        "outputId": "c3f9d758-dbf7-436a-dbb8-b7daa05c0660"
      },
      "source": [
        "# Import plotting modules\n",
        "import matplotlib.pyplot as plt\n",
        "import seaborn as sns\n",
        "\n",
        "#Importing numpy\n",
        "import numpy as np\n",
        "\n",
        "# Draw 100000 samples from Normal distribution with stds of interest: samples_std1, samples_std3, samples_std10\n",
        "samples_std1 = np.random.normal(20, 1, size=100000)\n",
        "samples_std3 = np.random.normal(20, 3, size=100000)\n",
        "samples_std10 = np.random.normal(20, 10, size=100000)\n",
        "\n",
        "# Make histograms\n",
        "\n",
        "plt.hist(samples_std1, bins=100, histtype='step', density=True)\n",
        "plt.hist(samples_std3, bins=100, histtype='step', density=True)\n",
        "plt.hist(samples_std10, bins=100, histtype='step', density=True)\n"
      ],
      "execution_count": 2,
      "outputs": [
        {
          "output_type": "execute_result",
          "data": {
            "text/plain": [
              "(array([1.07918458e-05, 0.00000000e+00, 0.00000000e+00, 0.00000000e+00,\n",
              "        0.00000000e+00, 0.00000000e+00, 1.07918458e-05, 0.00000000e+00,\n",
              "        1.07918458e-05, 2.15836916e-05, 2.15836916e-05, 2.15836916e-05,\n",
              "        7.55429206e-05, 1.29502150e-04, 7.55429206e-05, 1.72669533e-04,\n",
              "        2.05045070e-04, 2.05045070e-04, 3.34547220e-04, 6.36718902e-04,\n",
              "        6.58302594e-04, 9.38890585e-04, 1.19789488e-03, 1.17631119e-03,\n",
              "        1.76986271e-03, 2.28787131e-03, 2.84904729e-03, 3.41022327e-03,\n",
              "        4.07931771e-03, 5.12612676e-03, 6.08660103e-03, 7.04707531e-03,\n",
              "        8.52555818e-03, 9.66949384e-03, 1.18926141e-02, 1.29394231e-02,\n",
              "        1.60258910e-02, 1.71806185e-02, 1.88101872e-02, 2.16700264e-02,\n",
              "        2.35585994e-02, 2.61378505e-02, 2.77890029e-02, 3.01847927e-02,\n",
              "        3.29043379e-02, 3.40051061e-02, 3.53972542e-02, 3.65411899e-02,\n",
              "        3.93254861e-02, 3.94334046e-02, 3.97355762e-02, 3.96924089e-02,\n",
              "        3.92283595e-02, 3.93039024e-02, 3.80844238e-02, 3.73721620e-02,\n",
              "        3.59692221e-02, 3.40590654e-02, 3.30446319e-02, 2.96236167e-02,\n",
              "        2.70119900e-02, 2.53932132e-02, 2.45946166e-02, 2.18534878e-02,\n",
              "        1.90691915e-02, 1.76878353e-02, 1.58748052e-02, 1.33063459e-02,\n",
              "        1.10940175e-02, 1.00795840e-02, 8.57951741e-03, 7.05786716e-03,\n",
              "        5.62255166e-03, 5.11533491e-03, 3.87427264e-03, 3.46418250e-03,\n",
              "        2.56845930e-03, 2.44974900e-03, 1.79144640e-03, 1.55402580e-03,\n",
              "        1.05760089e-03, 9.49682431e-04, 6.15135211e-04, 7.01469977e-04,\n",
              "        3.34547220e-04, 2.26628762e-04, 1.72669533e-04, 1.51085841e-04,\n",
              "        8.63347664e-05, 3.23755374e-05, 2.15836916e-05, 3.23755374e-05,\n",
              "        1.07918458e-05, 3.23755374e-05, 1.07918458e-05, 2.15836916e-05,\n",
              "        1.07918458e-05, 0.00000000e+00, 0.00000000e+00, 1.07918458e-05]),\n",
              " array([-27.70904467, -26.78241912, -25.85579358, -24.92916803,\n",
              "        -24.00254249, -23.07591694, -22.1492914 , -21.22266585,\n",
              "        -20.29604031, -19.36941476, -18.44278922, -17.51616367,\n",
              "        -16.58953813, -15.66291258, -14.73628704, -13.80966149,\n",
              "        -12.88303595, -11.9564104 , -11.02978486, -10.10315931,\n",
              "         -9.17653377,  -8.24990822,  -7.32328268,  -6.39665713,\n",
              "         -5.47003159,  -4.54340604,  -3.6167805 ,  -2.69015495,\n",
              "         -1.7635294 ,  -0.83690386,   0.08972169,   1.01634723,\n",
              "          1.94297278,   2.86959832,   3.79622387,   4.72284941,\n",
              "          5.64947496,   6.5761005 ,   7.50272605,   8.42935159,\n",
              "          9.35597714,  10.28260268,  11.20922823,  12.13585377,\n",
              "         13.06247932,  13.98910486,  14.91573041,  15.84235595,\n",
              "         16.7689815 ,  17.69560704,  18.62223259,  19.54885813,\n",
              "         20.47548368,  21.40210922,  22.32873477,  23.25536031,\n",
              "         24.18198586,  25.1086114 ,  26.03523695,  26.96186249,\n",
              "         27.88848804,  28.81511358,  29.74173913,  30.66836467,\n",
              "         31.59499022,  32.52161576,  33.44824131,  34.37486685,\n",
              "         35.3014924 ,  36.22811794,  37.15474349,  38.08136903,\n",
              "         39.00799458,  39.93462012,  40.86124567,  41.78787121,\n",
              "         42.71449676,  43.6411223 ,  44.56774785,  45.49437339,\n",
              "         46.42099894,  47.34762448,  48.27425003,  49.20087557,\n",
              "         50.12750112,  51.05412666,  51.98075221,  52.90737775,\n",
              "         53.8340033 ,  54.76062884,  55.68725439,  56.61387993,\n",
              "         57.54050548,  58.46713102,  59.39375657,  60.32038211,\n",
              "         61.24700766,  62.17363321,  63.10025875,  64.0268843 ,\n",
              "         64.95350984]),\n",
              " <a list of 1 Patch objects>)"
            ]
          },
          "metadata": {},
          "execution_count": 2
        },
        {
          "output_type": "display_data",
          "data": {
            "image/png": "[encoded data removed]",
            "text/plain": [
              "<Figure size 432x288 with 1 Axes>"
            ]
          },
          "metadata": {
            "needs_background": "light"
          }
        }
      ]
    },
    {
      "cell_type": "code",
      "metadata": {
        "id": "upgAbkZ0fHFa"
      },
      "source": [
        "def ecdf(data):\n",
        "    \"\"\"Compute ECDF for a one-dimensional array of measurements.\"\"\"\n",
        "    # Number of data points: n\n",
        "    n = len(data)\n",
        "\n",
        "    # x-data for the ECDF: x\n",
        "    x = np.sort(data)\n",
        "\n",
        "    # y-data for the ECDF: y\n",
        "    y = np.arange(1, n+1) / n\n",
        "\n",
        "    return x, y"
      ],
      "execution_count": 3,
      "outputs": []
    },
    {
      "cell_type": "code",
      "metadata": {
        "colab": {
          "base_uri": "https://localhost:8080/",
          "height": 265
        },
        "id": "GYNunBkDwJ_r",
        "outputId": "202a4487-9013-4e29-914d-01370bbb8739"
      },
      "source": [
        "# Generate CDFs\n",
        "x_std1, y_std1 = ecdf(samples_std1)\n",
        "x_std3, y_std3 = ecdf(samples_std3)\n",
        "x_std10, y_std10 = ecdf(samples_std10)\n",
        "\n",
        "# Plot CDFs\n",
        "plt.plot(x_std1, y_std1, marker='.', linestyle='none')\n",
        "plt.plot(x_std3, y_std3 , marker='.', linestyle='none')\n",
        "plt.plot(x_std10, y_std10, marker='.', linestyle='none')\n",
        "\n",
        "\n",
        "# Make a legend and show the plot\n",
        "_ = plt.legend(('std = 1', 'std = 3', 'std = 10'), loc='lower right')\n",
        "plt.show()"
      ],
      "execution_count": 4,
      "outputs": [
        {
          "output_type": "display_data",
          "data": {
            "image/png": "[encoded data removed]",
            "text/plain": [
              "<Figure size 432x288 with 1 Axes>"
            ]
          },
          "metadata": {
            "needs_background": "light"
          }
        }
      ]
    },
    {
      "cell_type": "code",
      "metadata": {
        "colab": {
          "base_uri": "https://localhost:8080/",
          "height": 279
        },
        "id": "-zeUXD0I4ODF",
        "outputId": "df33877d-ac2e-4cfa-e366-8db920af7512"
      },
      "source": [
        "import pandas as pd\n",
        "#Load a csv file to the colab\n",
        "file_path = r'/content/drive/MyDrive/datasets/belmont_no_outliers.csv'\n",
        "belmont_no_outliers = np.loadtxt(fname=file_path, delimiter=',')\n",
        "\n",
        "# Compute mean and standard deviation: mu, sigma\n",
        "mu = np.mean(belmont_no_outliers)\n",
        "sigma = np.std(belmont_no_outliers)\n",
        "\n",
        "# Sample out of a normal distribution with this mu and sigma: samples\n",
        "samples = np.random.normal(mu, sigma, size= 10000)\n",
        "\n",
        "# Get the CDF of the samples and of the data\n",
        "x_theor, y_theor = ecdf(samples)\n",
        "x, y = ecdf(belmont_no_outliers)\n",
        "\n",
        "\n",
        "# Plot the CDFs and show the plot\n",
        "_ = plt.plot(x_theor, y_theor)\n",
        "_ = plt.plot(x, y, marker='.', linestyle='none')\n",
        "_ = plt.xlabel('Belmont winning time (sec.)')\n",
        "_ = plt.ylabel('CDF')\n",
        "plt.show()"
      ],
      "execution_count": 23,
      "outputs": [
        {
          "output_type": "display_data",
          "data": {
            "image/png": "[encoded data removed]",
            "text/plain": [
              "<Figure size 432x288 with 1 Axes>"
            ]
          },
          "metadata": {
            "needs_background": "light"
          }
        }
      ]
    },
    {
      "cell_type": "code",
      "metadata": {
        "id": "pc0dJeZfB1iE"
      },
      "source": [
        "!mv /content/belmont_no_outliers.csv /content/drive/MyDrive/datasets"
      ],
      "execution_count": 21,
      "outputs": []
    },
    {
      "cell_type": "code",
      "metadata": {
        "id": "anjGAbpY3V-H"
      },
      "source": [
        "def perform_bernoulli_trials(n, p):\n",
        "    \"\"\"Perform n Bernoulli trials with success probability p\n",
        "    and return number of successes.\"\"\"\n",
        "    # Initialize number of successes: n_success\n",
        "    n_success = 0\n",
        "\n",
        "    # Perform trials\n",
        "    for i in range(n):\n",
        "        # Choose random number between zero and one: random_number\n",
        "        random_number = np.random.random()\n",
        "\n",
        "        # If less than p, it's a success so add one to n_success\n",
        "        if random_number < p:\n",
        "            n_success += 1\n",
        "\n",
        "    return n_success"
      ],
      "execution_count": 5,
      "outputs": []
    },
    {
      "cell_type": "code",
      "metadata": {
        "colab": {
          "base_uri": "https://localhost:8080/",
          "height": 279
        },
        "id": "CuXwaypy3Y8X",
        "outputId": "dbd4a431-3d56-4560-e30e-0d8c49b51193"
      },
      "source": [
        "# Seed random number generator\n",
        "np.random.seed(42)\n",
        "\n",
        "# Initialize the number of defaults: n_defaults\n",
        "n_defaults = np.empty(1000)\n",
        "\n",
        "# Compute the number of defaults\n",
        "for i in range(1000):\n",
        "    n_defaults[i] = perform_bernoulli_trials(100, 0.05)\n",
        "\n",
        "weights = np.ones_like(n_defaults) / float(len(n_defaults))\n",
        "# Plot the histogram with default number of bins; label your axes\n",
        "_ = plt.hist(n_defaults, weights=weights)\n",
        "_ = plt.xlabel('number of defaults out of 100 loans')\n",
        "_ = plt.ylabel('probability')\n",
        "\n",
        "# Show the plot\n",
        "plt.show()"
      ],
      "execution_count": 6,
      "outputs": [
        {
          "output_type": "display_data",
          "data": {
            "image/png": "[encoded data removed]",
            "text/plain": [
              "<Figure size 432x288 with 1 Axes>"
            ]
          },
          "metadata": {
            "needs_background": "light"
          }
        }
      ]
    },
    {
      "cell_type": "code",
      "metadata": {
        "colab": {
          "base_uri": "https://localhost:8080/",
          "height": 280
        },
        "id": "ISse-4pHzCAa",
        "outputId": "f90d03ac-8747-432c-8de2-350b66756ea1"
      },
      "source": [
        "# Compute ECDF: x, y\n",
        "x, y = ecdf(n_defaults)\n",
        "\n",
        "# Plot the ECDF with labeled axes\n",
        "# Generate plot\n",
        "_ = plt.plot(x, y, marker = '.', linestyle = 'none')\n",
        "\n",
        "# Label the axes\n",
        "\n",
        "plt.xlabel('n_defaults')\n",
        "plt.ylabel('ECDF')\n",
        "\n",
        "# Show the plot\n",
        "plt.show()\n"
      ],
      "execution_count": 8,
      "outputs": [
        {
          "output_type": "display_data",
          "data": {
            "image/png": "[encoded data removed]",
            "text/plain": [
              "<Figure size 432x288 with 1 Axes>"
            ]
          },
          "metadata": {
            "needs_background": "light"
          }
        }
      ]
    },
    {
      "cell_type": "code",
      "metadata": {
        "id": "TEn-HpY8t8eS",
        "colab": {
          "base_uri": "https://localhost:8080/"
        },
        "outputId": "12541a86-9daa-4b16-c466-6a08ac3d5f6f"
      },
      "source": [
        "# Compute the number of 100-loan simulations with 10 or more defaults: n_lose_money\n",
        "n_lose_money = np.sum(n_defaults>=10) \n",
        " \n",
        "# Compute and print probability of losing money\n",
        "print('Probability of losing money =', n_lose_money / len(n_defaults))"
      ],
      "execution_count": 9,
      "outputs": [
        {
          "output_type": "stream",
          "text": [
            "Probability of losing money = 0.022\n"
          ],
          "name": "stdout"
        }
      ]
    },
    {
      "cell_type": "markdown",
      "metadata": {
        "id": "Gb7ZSBhb4pay"
      },
      "source": [
        "#Binomial Distribution\n",
        ">* Probability mass function PMF \n",
        ">* Binomial CDF\n"
      ]
    },
    {
      "cell_type": "code",
      "metadata": {
        "colab": {
          "base_uri": "https://localhost:8080/",
          "height": 279
        },
        "id": "oGhvq35X5rW5",
        "outputId": "a7f2a62f-195f-460c-8865-7837b502dea1"
      },
      "source": [
        "# Take 10,000 samples out of the binomial distribution: n_defaults\n",
        "n_defaults = np.random.binomial(100, 0.05, size=10000)\n",
        "\n",
        "# Compute CDF: x, y\n",
        "x,y = ecdf(n_defaults)\n",
        "\n",
        "# Plot the CDF with axis labels\n",
        "_ = plt.plot(x, y, marker='.', linestyle = 'none')\n",
        "\n",
        "plt.xlabel('number of defaults out of 100 trials')\n",
        "plt.ylabel('ECDF')\n",
        "\n",
        "# Show the plot\n",
        "\n",
        "plt.show()"
      ],
      "execution_count": 10,
      "outputs": [
        {
          "output_type": "display_data",
          "data": {
            "image/png": "[encoded data removed]",
            "text/plain": [
              "<Figure size 432x288 with 1 Axes>"
            ]
          },
          "metadata": {
            "needs_background": "light"
          }
        }
      ]
    },
    {
      "cell_type": "code",
      "metadata": {
        "colab": {
          "base_uri": "https://localhost:8080/",
          "height": 280
        },
        "id": "twzhzXlm4uKA",
        "outputId": "3081f96f-49bf-476b-f7d6-c2ceb690fd83"
      },
      "source": [
        "# Compute bin edges: bins\n",
        "bins = np.arange(0, max(n_defaults) + 1.5) - 0.5\n",
        "\n",
        "# Generate histogram\n",
        "weights = np.ones_like(n_defaults) / float(len(n_defaults))\n",
        "plt.hist(n_defaults, weights=weights, bins=bins)\n",
        "\n",
        "# Label axes\n",
        "plt.xlabel('n_defaults')\n",
        "plt.ylabel('frequency')\n",
        "\n",
        "\n",
        "# Show the plot\n",
        "plt.show()"
      ],
      "execution_count": 11,
      "outputs": [
        {
          "output_type": "display_data",
          "data": {
            "image/png": "[encoded data removed]",
            "text/plain": [
              "<Figure size 432x288 with 1 Axes>"
            ]
          },
          "metadata": {
            "needs_background": "light"
          }
        }
      ]
    },
    {
      "cell_type": "markdown",
      "metadata": {
        "id": "_-lL7Q3ikfR-"
      },
      "source": [
        "#Poisson processes and its distribution\n",
        ">* The Poisson distribution is a limit of the Binomial distribution for rare events. \n",
        ">* A good example of Poisson process is the number of no-hitters in the baseball history since it is quite a rare event.  1~2 games per year in average but we may not have it for several years."
      ]
    },
    {
      "cell_type": "markdown",
      "metadata": {
        "id": "_aUHmETd8Xrx"
      },
      "source": [
        ""
      ]
    },
    {
      "cell_type": "code",
      "metadata": {
        "colab": {
          "base_uri": "https://localhost:8080/"
        },
        "id": "hvZ1fkJvkAHn",
        "outputId": "5296a41f-796f-4210-85b2-5cd7b3345331"
      },
      "source": [
        "# Draw 10,000 samples out of Poisson distribution: samples_poisson\n",
        "samples_poisson = np.random.poisson(10, size=10000)\n",
        "\n",
        "# Print the mean and standard deviation\n",
        "print('Poisson: ', np.mean(samples_poisson),  np.std(samples_poisson))\n",
        "\n",
        "# Specify values of n and p to consider for Binomial: n, p\n",
        "n = [10, 100, 1000, 10000, 100000]\n",
        "p = [1, 0.1, 0.01, 0.001, 0.0001]\n",
        "\n",
        "\n",
        "# Draw 10,000 samples for each n,p pair: samples_binomial\n",
        "for i in range(5):\n",
        "    samples_binomial = np.random.binomial(n[i], p[i], size = 10000)\n",
        "\n",
        "    # Print results\n",
        "    print('Binomial:', np.mean(samples_binomial), np.std(samples_binomial), '(n =', n[i], ')' )"
      ],
      "execution_count": 22,
      "outputs": [
        {
          "output_type": "stream",
          "text": [
            "Poisson:  9.9727 3.1795525958851507\n",
            "Binomial: 10.0 0.0 (n = 10 )\n",
            "Binomial: 9.9796 2.9846245727059206 (n = 100 )\n",
            "Binomial: 9.9809 3.147814351260252 (n = 1000 )\n",
            "Binomial: 9.9798 3.1438180545317826 (n = 10000 )\n",
            "Binomial: 10.0466 3.18942446845822 (n = 100000 )\n"
          ],
          "name": "stdout"
        }
      ]
    },
    {
      "cell_type": "code",
      "metadata": {
        "colab": {
          "base_uri": "https://localhost:8080/"
        },
        "id": "XXPmtcxq0fHA",
        "outputId": "b6844edb-01c3-4147-e2f4-00924982e7ec"
      },
      "source": [
        "# Draw 100,000 samples out of Poisson distribution: n_nohitters\n",
        "n_nohitters = np.random.poisson(251/115, size = 100000)\n",
        "\n",
        "# Compute number of samples that are seven or greater: n_large\n",
        "n_large = np.sum(n_nohitters >= 7)\n",
        "\n",
        "# Compute probability of getting seven or more: p_large\n",
        "p_large = n_large / len(n_nohitters)\n",
        "\n",
        "# Print the result\n",
        "print('Probability of seven or more no-hitters:', p_large)\n"
      ],
      "execution_count": 31,
      "outputs": [
        {
          "output_type": "stream",
          "text": [
            "Probability of seven or more no-hitters: 0.00695\n"
          ],
          "name": "stdout"
        }
      ]
    },
    {
      "cell_type": "code",
      "metadata": {
        "id": "rNh_rj8S1EIg"
      },
      "source": [
        ""
      ],
      "execution_count": null,
      "outputs": []
    }
  ]
}