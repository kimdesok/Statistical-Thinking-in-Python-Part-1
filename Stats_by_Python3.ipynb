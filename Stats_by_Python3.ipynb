{
  "nbformat": 4,
  "nbformat_minor": 0,
  "metadata": {
    "colab": {
      "name": "Stats_by_Python3.ipynb",
      "provenance": [],
      "collapsed_sections": [],
      "authorship_tag": "ABX9TyNo5yr0IjBtxL0bJ9uC7fNo",
      "include_colab_link": true
    },
    "kernelspec": {
      "name": "python3",
      "display_name": "Python 3"
    },
    "language_info": {
      "name": "python"
    }
  },
  "cells": [
    {
      "cell_type": "markdown",
      "metadata": {
        "id": "view-in-github",
        "colab_type": "text"
      },
      "source": [
        "<a href=\"https://colab.research.google.com/github/kimdesok/Statistical-Thinking-in-Python-Part-1-/blob/main/Stats_by_Python3.ipynb\" target=\"_parent\"><img src=\"https://colab.research.google.com/assets/colab-badge.svg\" alt=\"Open In Colab\"/></a>"
      ]
    },
    {
      "cell_type": "markdown",
      "metadata": {
        "id": "XNs4GrG8rbOa"
      },
      "source": [
        "#Probabilistic logic and statistical inference\n"
      ]
    },
    {
      "cell_type": "markdown",
      "metadata": {
        "id": "1ZSnt_rDrecB"
      },
      "source": [
        "> * We like to draw a probablistic conclusion from our data.\n",
        "> * It is more reliable especially the risk involved in the decision making is huge.\n",
        ">* It is called statistical inference\n"
      ]
    },
    {
      "cell_type": "code",
      "metadata": {
        "colab": {
          "base_uri": "https://localhost:8080/",
          "height": 265
        },
        "id": "fzWepFErdW5o",
        "outputId": "9eb68886-3719-4953-e123-3ad830e2f86c"
      },
      "source": [
        "# Import plotting modules\n",
        "import matplotlib.pyplot as plt\n",
        "import seaborn as sns\n",
        "\n",
        "#Importing numpy\n",
        "import numpy as np\n",
        "\n",
        "# Seed the random number generator\n",
        "np.random.seed(42)\n",
        "\n",
        "# Initialize random numbers: random_numbers\n",
        "random_numbers = np.empty(100000)\n",
        "\n",
        "# Generate random numbers by looping over range(100000)\n",
        "for i in range(100000):\n",
        "    random_numbers[i] = np.random.random()\n",
        "\n",
        "# Plot a histogram\n",
        "_ = plt.hist(random_numbers)\n",
        "\n",
        "# Show the plot\n",
        "plt.show()\n"
      ],
      "execution_count": 4,
      "outputs": [
        {
          "output_type": "display_data",
          "data": {
            "image/png": "[encoded data removed]",
            "text/plain": [
              "<Figure size 432x288 with 1 Axes>"
            ]
          },
          "metadata": {
            "needs_background": "light"
          }
        }
      ]
    },
    {
      "cell_type": "code",
      "metadata": {
        "id": "anjGAbpY3V-H"
      },
      "source": [
        "def perform_bernoulli_trials(n, p):\n",
        "    \"\"\"Perform n Bernoulli trials with success probability p\n",
        "    and return number of successes.\"\"\"\n",
        "    # Initialize number of successes: n_success\n",
        "    n_success = 0\n",
        "\n",
        "    # Perform trials\n",
        "    for i in range(n):\n",
        "        # Choose random number between zero and one: random_number\n",
        "        random_number = np.random.random()\n",
        "\n",
        "        # If less than p, it's a success so add one to n_success\n",
        "        if random_number < p:\n",
        "            n_success += 1\n",
        "\n",
        "    return n_success"
      ],
      "execution_count": 5,
      "outputs": []
    },
    {
      "cell_type": "code",
      "metadata": {
        "colab": {
          "base_uri": "https://localhost:8080/",
          "height": 279
        },
        "id": "CuXwaypy3Y8X",
        "outputId": "dbd4a431-3d56-4560-e30e-0d8c49b51193"
      },
      "source": [
        "# Seed random number generator\n",
        "np.random.seed(42)\n",
        "\n",
        "# Initialize the number of defaults: n_defaults\n",
        "n_defaults = np.empty(1000)\n",
        "\n",
        "# Compute the number of defaults\n",
        "for i in range(1000):\n",
        "    n_defaults[i] = perform_bernoulli_trials(100, 0.05)\n",
        "\n",
        "weights = np.ones_like(n_defaults) / float(len(n_defaults))\n",
        "# Plot the histogram with default number of bins; label your axes\n",
        "_ = plt.hist(n_defaults, weights=weights)\n",
        "_ = plt.xlabel('number of defaults out of 100 loans')\n",
        "_ = plt.ylabel('probability')\n",
        "\n",
        "# Show the plot\n",
        "plt.show()"
      ],
      "execution_count": 6,
      "outputs": [
        {
          "output_type": "display_data",
          "data": {
            "image/png": "[encoded data removed]",
            "text/plain": [
              "<Figure size 432x288 with 1 Axes>"
            ]
          },
          "metadata": {
            "needs_background": "light"
          }
        }
      ]
    },
    {
      "cell_type": "code",
      "metadata": {
        "id": "upgAbkZ0fHFa"
      },
      "source": [
        "def ecdf(data):\n",
        "    \"\"\"Compute ECDF for a one-dimensional array of measurements.\"\"\"\n",
        "    # Number of data points: n\n",
        "    n = len(data)\n",
        "\n",
        "    # x-data for the ECDF: x\n",
        "    x = np.sort(data)\n",
        "\n",
        "    # y-data for the ECDF: y\n",
        "    y = np.arange(1, n+1) / n\n",
        "\n",
        "    return x, y"
      ],
      "execution_count": 7,
      "outputs": []
    },
    {
      "cell_type": "code",
      "metadata": {
        "colab": {
          "base_uri": "https://localhost:8080/",
          "height": 280
        },
        "id": "ISse-4pHzCAa",
        "outputId": "f90d03ac-8747-432c-8de2-350b66756ea1"
      },
      "source": [
        "# Compute ECDF: x, y\n",
        "x, y = ecdf(n_defaults)\n",
        "\n",
        "# Plot the ECDF with labeled axes\n",
        "# Generate plot\n",
        "_ = plt.plot(x, y, marker = '.', linestyle = 'none')\n",
        "\n",
        "# Label the axes\n",
        "\n",
        "plt.xlabel('n_defaults')\n",
        "plt.ylabel('ECDF')\n",
        "\n",
        "# Show the plot\n",
        "plt.show()\n"
      ],
      "execution_count": 8,
      "outputs": [
        {
          "output_type": "display_data",
          "data": {
            "image/png": "[encoded data removed]",
            "text/plain": [
              "<Figure size 432x288 with 1 Axes>"
            ]
          },
          "metadata": {
            "needs_background": "light"
          }
        }
      ]
    },
    {
      "cell_type": "code",
      "metadata": {
        "id": "TEn-HpY8t8eS",
        "colab": {
          "base_uri": "https://localhost:8080/"
        },
        "outputId": "12541a86-9daa-4b16-c466-6a08ac3d5f6f"
      },
      "source": [
        "# Compute the number of 100-loan simulations with 10 or more defaults: n_lose_money\n",
        "n_lose_money = np.sum(n_defaults>=10) \n",
        " \n",
        "# Compute and print probability of losing money\n",
        "print('Probability of losing money =', n_lose_money / len(n_defaults))"
      ],
      "execution_count": 9,
      "outputs": [
        {
          "output_type": "stream",
          "text": [
            "Probability of losing money = 0.022\n"
          ],
          "name": "stdout"
        }
      ]
    },
    {
      "cell_type": "markdown",
      "metadata": {
        "id": "Gb7ZSBhb4pay"
      },
      "source": [
        "#Binomial Distribution\n",
        ">* Probability mass function PMF \n",
        ">* Binomial CDF\n"
      ]
    },
    {
      "cell_type": "code",
      "metadata": {
        "colab": {
          "base_uri": "https://localhost:8080/",
          "height": 279
        },
        "id": "oGhvq35X5rW5",
        "outputId": "a7f2a62f-195f-460c-8865-7837b502dea1"
      },
      "source": [
        "# Take 10,000 samples out of the binomial distribution: n_defaults\n",
        "n_defaults = np.random.binomial(100, 0.05, size=10000)\n",
        "\n",
        "# Compute CDF: x, y\n",
        "x,y = ecdf(n_defaults)\n",
        "\n",
        "# Plot the CDF with axis labels\n",
        "_ = plt.plot(x, y, marker='.', linestyle = 'none')\n",
        "\n",
        "plt.xlabel('number of defaults out of 100 trials')\n",
        "plt.ylabel('ECDF')\n",
        "\n",
        "# Show the plot\n",
        "\n",
        "plt.show()"
      ],
      "execution_count": 10,
      "outputs": [
        {
          "output_type": "display_data",
          "data": {
            "image/png": "[encoded data removed]",
            "text/plain": [
              "<Figure size 432x288 with 1 Axes>"
            ]
          },
          "metadata": {
            "needs_background": "light"
          }
        }
      ]
    },
    {
      "cell_type": "code",
      "metadata": {
        "colab": {
          "base_uri": "https://localhost:8080/",
          "height": 280
        },
        "id": "twzhzXlm4uKA",
        "outputId": "3081f96f-49bf-476b-f7d6-c2ceb690fd83"
      },
      "source": [
        "# Compute bin edges: bins\n",
        "bins = np.arange(0, max(n_defaults) + 1.5) - 0.5\n",
        "\n",
        "# Generate histogram\n",
        "weights = np.ones_like(n_defaults) / float(len(n_defaults))\n",
        "plt.hist(n_defaults, weights=weights, bins=bins)\n",
        "\n",
        "# Label axes\n",
        "plt.xlabel('n_defaults')\n",
        "plt.ylabel('frequency')\n",
        "\n",
        "\n",
        "# Show the plot\n",
        "plt.show()"
      ],
      "execution_count": 11,
      "outputs": [
        {
          "output_type": "display_data",
          "data": {
            "image/png": "[encoded data removed]",
            "text/plain": [
              "<Figure size 432x288 with 1 Axes>"
            ]
          },
          "metadata": {
            "needs_background": "light"
          }
        }
      ]
    },
    {
      "cell_type": "markdown",
      "metadata": {
        "id": "_-lL7Q3ikfR-"
      },
      "source": [
        "#Poisson processes and its distribution\n",
        ">* The Poisson distribution is a limit of the Binomial distribution for rare events. \n",
        ">* A good example of Poisson process is the number of no-hitters in the baseball history since it is quite a rare event.  1~2 games per year in average but we may not have it for several years."
      ]
    },
    {
      "cell_type": "markdown",
      "metadata": {
        "id": "_aUHmETd8Xrx"
      },
      "source": [
        ""
      ]
    },
    {
      "cell_type": "code",
      "metadata": {
        "colab": {
          "base_uri": "https://localhost:8080/"
        },
        "id": "hvZ1fkJvkAHn",
        "outputId": "5296a41f-796f-4210-85b2-5cd7b3345331"
      },
      "source": [
        "# Draw 10,000 samples out of Poisson distribution: samples_poisson\n",
        "samples_poisson = np.random.poisson(10, size=10000)\n",
        "\n",
        "# Print the mean and standard deviation\n",
        "print('Poisson: ', np.mean(samples_poisson),  np.std(samples_poisson))\n",
        "\n",
        "# Specify values of n and p to consider for Binomial: n, p\n",
        "n = [10, 100, 1000, 10000, 100000]\n",
        "p = [1, 0.1, 0.01, 0.001, 0.0001]\n",
        "\n",
        "\n",
        "# Draw 10,000 samples for each n,p pair: samples_binomial\n",
        "for i in range(5):\n",
        "    samples_binomial = np.random.binomial(n[i], p[i], size = 10000)\n",
        "\n",
        "    # Print results\n",
        "    print('Binomial:', np.mean(samples_binomial), np.std(samples_binomial), '(n =', n[i], ')' )"
      ],
      "execution_count": 22,
      "outputs": [
        {
          "output_type": "stream",
          "text": [
            "Poisson:  9.9727 3.1795525958851507\n",
            "Binomial: 10.0 0.0 (n = 10 )\n",
            "Binomial: 9.9796 2.9846245727059206 (n = 100 )\n",
            "Binomial: 9.9809 3.147814351260252 (n = 1000 )\n",
            "Binomial: 9.9798 3.1438180545317826 (n = 10000 )\n",
            "Binomial: 10.0466 3.18942446845822 (n = 100000 )\n"
          ],
          "name": "stdout"
        }
      ]
    },
    {
      "cell_type": "code",
      "metadata": {
        "colab": {
          "base_uri": "https://localhost:8080/"
        },
        "id": "XXPmtcxq0fHA",
        "outputId": "b6844edb-01c3-4147-e2f4-00924982e7ec"
      },
      "source": [
        "# Draw 100,000 samples out of Poisson distribution: n_nohitters\n",
        "n_nohitters = np.random.poisson(251/115, size = 100000)\n",
        "\n",
        "# Compute number of samples that are seven or greater: n_large\n",
        "n_large = np.sum(n_nohitters >= 7)\n",
        "\n",
        "# Compute probability of getting seven or more: p_large\n",
        "p_large = n_large / len(n_nohitters)\n",
        "\n",
        "# Print the result\n",
        "print('Probability of seven or more no-hitters:', p_large)\n"
      ],
      "execution_count": 31,
      "outputs": [
        {
          "output_type": "stream",
          "text": [
            "Probability of seven or more no-hitters: 0.00695\n"
          ],
          "name": "stdout"
        }
      ]
    },
    {
      "cell_type": "code",
      "metadata": {
        "id": "rNh_rj8S1EIg"
      },
      "source": [
        ""
      ],
      "execution_count": null,
      "outputs": []
    }
  ]
}