{
  "nbformat": 4,
  "nbformat_minor": 0,
  "metadata": {
    "colab": {
      "name": "Stats_by_Python1.ipynb",
      "provenance": [],
      "authorship_tag": "ABX9TyPjIXVBaqwtfUfuDotveqk/",
      "include_colab_link": true
    },
    "kernelspec": {
      "name": "python3",
      "display_name": "Python 3"
    },
    "language_info": {
      "name": "python"
    }
  },
  "cells": [
    {
      "cell_type": "markdown",
      "metadata": {
        "id": "view-in-github",
        "colab_type": "text"
      },
      "source": [
        "<a href=\"https://colab.research.google.com/github/kimdesok/Statistical-Thinking-in-Python-Part-1-/blob/main/Stats_by_Python1.ipynb\" target=\"_parent\"><img src=\"https://colab.research.google.com/assets/colab-badge.svg\" alt=\"Open In Colab\"/></a>"
      ]
    },
    {
      "cell_type": "code",
      "metadata": {
        "colab": {
          "base_uri": "https://localhost:8080/",
          "height": 268
        },
        "id": "beLSgxQp62VE",
        "outputId": "1bf119e2-da51-401b-8241-07b755bfb42b"
      },
      "source": [
        "# Import plotting modules\n",
        "import matplotlib.pyplot as plt\n",
        "import seaborn as sns\n",
        "\n",
        "# Set default Seaborn style\n",
        "sns.set()\n",
        "\n",
        "#Datasets\n",
        "#Iris dataset consists of 150 rows and four columns.\n",
        "#This data set consists of three different types of irise : Setosa, Versicolor, and Virginica.\n",
        "#The first 50 rows represent data of Setoda and so on.\n",
        "#source: https://scikit-learn.org/stable/auto_examples/datasets/plot_iris_dataset.html#sphx-glr-auto-examples-datasets-plot-iris-dataset-py\n",
        "#Each column represents Sepal Length, Sepal Width, Petal Length and Petal Width.\n",
        "\n",
        "#To extract Versicolor's petal length data\n",
        "from sklearn.datasets import load_iris\n",
        "versicolor_petal_length = load_iris().data[50:100,2]\n",
        "#print(data)\n",
        "\n",
        "# Plot histogram of versicolor petal lengths\n",
        "_ = plt.hist(versicolor_petal_length)\n",
        "plt.show()"
      ],
      "execution_count": 4,
      "outputs": [
        {
          "output_type": "display_data",
          "data": {
            "image/png": "[encoded data removed]",
            "text/plain": [
              "<Figure size 432x288 with 1 Axes>"
            ]
          },
          "metadata": {
            "tags": []
          }
        }
      ]
    },
    {
      "cell_type": "markdown",
      "metadata": {
        "id": "QseXYqYaVF9G"
      },
      "source": [
        "Don't forget to label the axis."
      ]
    },
    {
      "cell_type": "code",
      "metadata": {
        "colab": {
          "base_uri": "https://localhost:8080/",
          "height": 285
        },
        "id": "yGXXsGOXVLU-",
        "outputId": "a384bf9d-3dc3-4f6c-cb26-9f8592aa551f"
      },
      "source": [
        "_ = plt.hist(versicolor_petal_length)\n",
        "# Label axes\n",
        "plt.ylabel('count')\n",
        "plt.xlabel('petal length (cm)')\n",
        "\n",
        "# Show histogram\n",
        "\n",
        "plt.show()"
      ],
      "execution_count": 6,
      "outputs": [
        {
          "output_type": "display_data",
          "data": {
            "image/png": "[encoded data removed]",
            "text/plain": [
              "<Figure size 432x288 with 1 Axes>"
            ]
          },
          "metadata": {
            "tags": []
          }
        }
      ]
    },
    {
      "cell_type": "markdown",
      "metadata": {
        "id": "6xqUgiU5U07X"
      },
      "source": [
        "To determine the number of bins in the histogram, you take a square root of the number of data."
      ]
    },
    {
      "cell_type": "code",
      "metadata": {
        "colab": {
          "base_uri": "https://localhost:8080/",
          "height": 285
        },
        "id": "5Wfpwi0STWcY",
        "outputId": "c5c86cfd-b9a5-4847-a8bc-a23df167349a"
      },
      "source": [
        "# Import numpy\n",
        "import numpy as np\n",
        "\n",
        "# Compute number of data points: n_data\n",
        "n_data = len(versicolor_petal_length)\n",
        "\n",
        "# Number of bins is the square root of number of data points: n_bins\n",
        "bins = np.sqrt(n_data)\n",
        "\n",
        "# Convert number of bins to integer: n_bins\n",
        "n_bins = int(bins)\n",
        "\n",
        "# Plot the histogram\n",
        "_ = plt.hist(versicolor_petal_length, bins=n_bins)\n",
        "\n",
        "# Label axes\n",
        "_ = plt.xlabel('petal length (cm)')\n",
        "_ = plt.ylabel('count')\n",
        "\n",
        "# Show histogram\n",
        "plt.show()"
      ],
      "execution_count": 7,
      "outputs": [
        {
          "output_type": "display_data",
          "data": {
            "image/png": "[encoded data removed]",
            "text/plain": [
              "<Figure size 432x288 with 1 Axes>"
            ]
          },
          "metadata": {
            "tags": []
          }
        }
      ]
    }
  ]
}