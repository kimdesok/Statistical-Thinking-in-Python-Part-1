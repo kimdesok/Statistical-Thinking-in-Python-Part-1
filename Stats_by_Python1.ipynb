{
  "nbformat": 4,
  "nbformat_minor": 0,
  "metadata": {
    "colab": {
      "name": "Stats_by_Python1.ipynb",
      "provenance": [],
      "authorship_tag": "ABX9TyNRDFVZm3eNaMLRoOe5ju8m",
      "include_colab_link": true
    },
    "kernelspec": {
      "name": "python3",
      "display_name": "Python 3"
    },
    "language_info": {
      "name": "python"
    }
  },
  "cells": [
    {
      "cell_type": "markdown",
      "metadata": {
        "id": "view-in-github",
        "colab_type": "text"
      },
      "source": [
        "<a href=\"https://colab.research.google.com/github/kimdesok/Statistical-Thinking-in-Python-Part-1-/blob/main/Stats_by_Python1.ipynb\" target=\"_parent\"><img src=\"https://colab.research.google.com/assets/colab-badge.svg\" alt=\"Open In Colab\"/></a>"
      ]
    },
    {
      "cell_type": "code",
      "metadata": {
        "colab": {
          "base_uri": "https://localhost:8080/",
          "height": 268
        },
        "id": "beLSgxQp62VE",
        "outputId": "1e82e4c7-296a-4676-fea8-4b440f92df40"
      },
      "source": [
        "# Import plotting modules\n",
        "import matplotlib.pyplot as plt\n",
        "import seaborn as sns\n",
        "\n",
        "# Set default Seaborn style\n",
        "sns.set()\n",
        "\n",
        "#Datasets\n",
        "#Iris dataset consists of 150 rows and four columns.\n",
        "#This data set consists of three different types of irise : Setosa, Versicolor, and Virginica.\n",
        "#The first 50 rows represent data of Setoda and so on.\n",
        "#source: https://scikit-learn.org/stable/auto_examples/datasets/plot_iris_dataset.html#sphx-glr-auto-examples-datasets-plot-iris-dataset-py\n",
        "#Each column represents Sepal Length, Sepal Width, Petal Length and Petal Width.\n",
        "\n",
        "#To extract Versicolor's petal length data\n",
        "from sklearn.datasets import load_iris\n",
        "data = load_iris().data[50:100,2]\n",
        "#print(data)\n",
        "\n",
        "# Plot histogram of versicolor petal lengths\n",
        "plt.hist(data)\n",
        "\n",
        "# Show histogram\n",
        "\n",
        "plt.show()"
      ],
      "execution_count": 3,
      "outputs": [
        {
          "output_type": "display_data",
          "data": {
            "image/png": "[encoded data removed]",
            "text/plain": [
              "<Figure size 432x288 with 1 Axes>"
            ]
          },
          "metadata": {
            "tags": []
          }
        }
      ]
    }
  ]
}