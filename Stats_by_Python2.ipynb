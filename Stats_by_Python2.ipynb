{
  "nbformat": 4,
  "nbformat_minor": 0,
  "metadata": {
    "colab": {
      "name": "Stats_by_Python2.ipynb",
      "provenance": [],
      "collapsed_sections": [],
      "authorship_tag": "ABX9TyObsua9dcEd7XtxK/YxVEFo",
      "include_colab_link": true
    },
    "kernelspec": {
      "name": "python3",
      "display_name": "Python 3"
    },
    "language_info": {
      "name": "python"
    }
  },
  "cells": [
    {
      "cell_type": "markdown",
      "metadata": {
        "id": "view-in-github",
        "colab_type": "text"
      },
      "source": [
        "<a href=\"https://colab.research.google.com/github/kimdesok/Statistical-Thinking-in-Python-Part-1-/blob/main/Stats_by_Python2.ipynb\" target=\"_parent\"><img src=\"https://colab.research.google.com/assets/colab-badge.svg\" alt=\"Open In Colab\"/></a>"
      ]
    },
    {
      "cell_type": "markdown",
      "metadata": {
        "id": "XNs4GrG8rbOa"
      },
      "source": [
        "#Quantitative Exploratory Data Analysis\n"
      ]
    },
    {
      "cell_type": "markdown",
      "metadata": {
        "id": "1ZSnt_rDrecB"
      },
      "source": [
        "> * Mean is good for estimating the average but heavily influenced by outliers.\n",
        "> * Median could be better in that case.\n",
        ">> - Median is 50% percentile."
      ]
    },
    {
      "cell_type": "code",
      "metadata": {
        "id": "beLSgxQp62VE"
      },
      "source": [
        "# Import plotting modules\n",
        "import matplotlib.pyplot as plt\n",
        "import seaborn as sns\n",
        "\n",
        "#Importing numpy\n",
        "import numpy as np\n",
        "\n",
        "\n",
        "# Set default Seaborn style\n",
        "sns.set()\n",
        "\n",
        "#Datasets\n",
        "#Iris dataset consists of 150 rows and four columns.\n",
        "#This data set consists of three different types of irise : Setosa, Versicolor, and Virginica.\n",
        "#The first 50 rows represent data of Setoda and so on.\n",
        "#source: https://scikit-learn.org/stable/auto_examples/datasets/plot_iris_dataset.html#sphx-glr-auto-examples-datasets-plot-iris-dataset-py\n",
        "#Each column represents Sepal Length, Sepal Width, Petal Length and Petal Width.\n",
        "\n",
        "#To extract Versicolor's petal length data\n",
        "from sklearn.datasets import load_iris\n",
        "versicolor_petal_length = load_iris().data[50:100,2]"
      ],
      "execution_count": 16,
      "outputs": []
    },
    {
      "cell_type": "code",
      "metadata": {
        "id": "xIYJ40MUfEVT",
        "colab": {
          "base_uri": "https://localhost:8080/"
        },
        "outputId": "dcb323e7-6b17-4f6e-e771-3610cbc5f22c"
      },
      "source": [
        "# Compute the mean: mean_length_vers\n",
        "mean_length_vers = np.mean(versicolor_petal_length)\n",
        "\n",
        "# Print the result with some nice formatting\n",
        "print('I. versicolor:', mean_length_vers, 'cm')"
      ],
      "execution_count": 17,
      "outputs": [
        {
          "output_type": "stream",
          "text": [
            "I. versicolor: 4.26 cm\n"
          ],
          "name": "stdout"
        }
      ]
    },
    {
      "cell_type": "code",
      "metadata": {
        "colab": {
          "base_uri": "https://localhost:8080/"
        },
        "id": "DxtIvOqDtEdK",
        "outputId": "fa40745b-2f10-40ac-85c1-969cd697d12c"
      },
      "source": [
        "#percentiles\n",
        "# Specify array of percentiles: percentiles\n",
        "percentiles = np.array([2.5, 25, 50, 75, 97.5])\n",
        "\n",
        "# Compute percentiles: ptiles_vers\n",
        "ptiles_vers = np.percentile(versicolor_petal_length, percentiles)\n",
        "\n",
        "# Print the result\n",
        "print(ptiles_vers)"
      ],
      "execution_count": 18,
      "outputs": [
        {
          "output_type": "stream",
          "text": [
            "[3.3    4.     4.35   4.6    4.9775]\n"
          ],
          "name": "stdout"
        }
      ]
    },
    {
      "cell_type": "markdown",
      "metadata": {
        "id": "1qTL6ENHg3By"
      },
      "source": [
        "#Percentile calculation and marking on the ecdf graph\n"
      ]
    },
    {
      "cell_type": "code",
      "metadata": {
        "id": "upgAbkZ0fHFa"
      },
      "source": [
        "def ecdf(data):\n",
        "    \"\"\"Compute ECDF for a one-dimensional array of measurements.\"\"\"\n",
        "    # Number of data points: n\n",
        "    n = len(data)\n",
        "\n",
        "    # x-data for the ECDF: x\n",
        "    x = np.sort(data)\n",
        "\n",
        "    # y-data for the ECDF: y\n",
        "    y = np.arange(1, n+1) / n\n",
        "\n",
        "    return x, y"
      ],
      "execution_count": 19,
      "outputs": []
    },
    {
      "cell_type": "code",
      "metadata": {
        "colab": {
          "base_uri": "https://localhost:8080/",
          "height": 285
        },
        "id": "7R140wRkhTmC",
        "outputId": "9b8e7f80-1541-4d0d-f54e-06a8ceb78c43"
      },
      "source": [
        "# Compute ECDF for versicolor data: x_vers, y_vers\n",
        "x_vers, y_vers = ecdf(versicolor_petal_length)\n",
        "\n",
        "# Generate plot\n",
        "_ = plt.plot(x_vers, y_vers,marker = '.', linestyle = 'none')\n",
        "\n",
        "# Label the axes\n",
        "\n",
        "plt.xlabel('petal length (cm)')\n",
        "plt.ylabel('ECDF')\n",
        "\n",
        "# Overlay percentiles as red diamonds.\n",
        "_ = plt.plot(ptiles_vers, percentiles/100, marker='D', color='red',\n",
        "         linestyle='none')\n",
        "\n",
        "# Display the plot\n",
        "plt.show()\n",
        "\n"
      ],
      "execution_count": 21,
      "outputs": [
        {
          "output_type": "display_data",
          "data": {
            "image/png": "[encoded data removed]",
            "text/plain": [
              "<Figure size 432x288 with 1 Axes>"
            ]
          },
          "metadata": {}
        }
      ]
    },
    {
      "cell_type": "markdown",
      "metadata": {
        "id": "mmY2Pi-euHNj"
      },
      "source": [
        "#Box plot \n",
        ">* invented by Tukey and provided by Seaborn\n",
        ">* good to represent non-Gaussian distribution with percentiles and outliers\n"
      ]
    },
    {
      "cell_type": "code",
      "metadata": {
        "colab": {
          "base_uri": "https://localhost:8080/",
          "height": 285
        },
        "id": "NPqP6QpGQcVR",
        "outputId": "440a3016-e657-4501-a7da-f3f85d9a699e"
      },
      "source": [
        "import pandas as pd \n",
        "df = pd.DataFrame(load_iris().data)\n",
        "df.columns = ['sepal length (cm)',  'sepal width (cm)',  'petal length (cm)',  'petal width (cm)']\n",
        "df_ = 50*['setosa']\n",
        "df_[50:100] = 50*['versicolor']\n",
        "df_[100:150] = 50*['virginica']\n",
        "#print(len(df_))\n",
        "df['species'] = df_\n",
        "\n",
        "# Create box plot with Seaborn's default settings\n",
        "_ = sns.boxplot(x='species', y='petal length (cm)', data = df )\n",
        "\n",
        "\n",
        "\n",
        "# Label the axes\n",
        "plt.xlabel('species')\n",
        "plt.ylabel('petal length (cm)')\n",
        "\n",
        "# Show the plot\n",
        "plt.show()\n",
        "\n"
      ],
      "execution_count": 25,
      "outputs": [
        {
          "output_type": "display_data",
          "data": {
            "image/png": "[encoded data removed]",
            "text/plain": [
              "<Figure size 432x288 with 1 Axes>"
            ]
          },
          "metadata": {}
        }
      ]
    },
    {
      "cell_type": "code",
      "metadata": {
        "colab": {
          "base_uri": "https://localhost:8080/",
          "height": 319
        },
        "id": "ZnkgD5EnBXIE",
        "outputId": "975fbdd0-42e1-42f0-bb0c-6282035c4050"
      },
      "source": [
        "# Create bee swarm plot with Seaborn's default settings\n",
        "_ = sns.swarmplot(x='species', y='petal length (cm)', data=df)\n",
        "\n",
        "# Label the axes\n",
        "_ = plt.xlabel('species')\n",
        "_ = plt.ylabel('petal length (cm)')\n",
        "\n",
        "# Show the plot\n",
        "plt.show()"
      ],
      "execution_count": 23,
      "outputs": [
        {
          "output_type": "stream",
          "text": [
            "/usr/local/lib/python3.7/dist-packages/seaborn/categorical.py:1296: UserWarning: 14.0% of the points cannot be placed; you may want to decrease the size of the markers or use stripplot.\n",
            "  warnings.warn(msg, UserWarning)\n"
          ],
          "name": "stderr"
        },
        {
          "output_type": "display_data",
          "data": {
            "image/png": "[encoded data removed]",
            "text/plain": [
              "<Figure size 432x288 with 1 Axes>"
            ]
          },
          "metadata": {}
        }
      ]
    }
  ]
}