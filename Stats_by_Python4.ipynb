{
  "nbformat": 4,
  "nbformat_minor": 0,
  "metadata": {
    "colab": {
      "name": "Stats_by_Python4.ipynb",
      "provenance": [],
      "collapsed_sections": [],
      "mount_file_id": "1fSBEBQgm-IxwS-vnebfiIy9It1vDuj9h",
      "authorship_tag": "ABX9TyNWpHJAP3H4NVHd4SycetEn",
      "include_colab_link": true
    },
    "kernelspec": {
      "name": "python3",
      "display_name": "Python 3"
    },
    "language_info": {
      "name": "python"
    }
  },
  "cells": [
    {
      "cell_type": "markdown",
      "metadata": {
        "id": "view-in-github",
        "colab_type": "text"
      },
      "source": [
        "<a href=\"https://colab.research.google.com/github/kimdesok/Statistical-Thinking-in-Python-Part-1-/blob/main/Stats_by_Python4.ipynb\" target=\"_parent\"><img src=\"https://colab.research.google.com/assets/colab-badge.svg\" alt=\"Open In Colab\"/></a>"
      ]
    },
    {
      "cell_type": "markdown",
      "metadata": {
        "id": "aBAeQ-yCGZe4"
      },
      "source": [
        "#Probability density functions\n",
        ">* Continuous Prob. Distr.\n",
        ">* Cumulative Density Functions"
      ]
    },
    {
      "cell_type": "code",
      "metadata": {
        "colab": {
          "base_uri": "https://localhost:8080/",
          "height": 1000
        },
        "id": "fzWepFErdW5o",
        "outputId": "6c165183-bf9c-474d-d8da-a86bd3381cb0"
      },
      "source": [
        "# Import plotting modules\n",
        "import matplotlib.pyplot as plt\n",
        "import seaborn as sns\n",
        "\n",
        "#Importing numpy\n",
        "import numpy as np\n",
        "\n",
        "# Draw 100000 samples from Normal distribution with stds of interest: samples_std1, samples_std3, samples_std10\n",
        "samples_std1 = np.random.normal(20, 1, size=100000)\n",
        "samples_std3 = np.random.normal(20, 3, size=100000)\n",
        "samples_std10 = np.random.normal(20, 10, size=100000)\n",
        "\n",
        "# Make histograms\n",
        "\n",
        "plt.hist(samples_std1, bins=100, histtype='step', density=True)\n",
        "plt.hist(samples_std3, bins=100, histtype='step', density=True)\n",
        "plt.hist(samples_std10, bins=100, histtype='step', density=True)\n"
      ],
      "execution_count": 2,
      "outputs": [
        {
          "output_type": "execute_result",
          "data": {
            "text/plain": [
              "(array([2.28454440e-05, 0.00000000e+00, 0.00000000e+00, 2.28454440e-05,\n",
              "        1.14227220e-05, 0.00000000e+00, 1.14227220e-05, 4.56908880e-05,\n",
              "        4.56908880e-05, 3.42681660e-05, 4.56908880e-05, 1.25649942e-04,\n",
              "        1.37072664e-04, 1.94186274e-04, 2.62722606e-04, 2.17031718e-04,\n",
              "        4.56908880e-04, 4.45486158e-04, 6.85363319e-04, 7.08208763e-04,\n",
              "        9.70931369e-04, 1.32503575e-03, 1.73625374e-03, 1.93044002e-03,\n",
              "        2.91279411e-03, 2.87852594e-03, 3.64384832e-03, 4.30636619e-03,\n",
              "        5.42579295e-03, 6.55664242e-03, 7.08208763e-03, 9.34378659e-03,\n",
              "        9.78927275e-03, 1.21537762e-02, 1.31018621e-02, 1.49523431e-02,\n",
              "        1.70998148e-02, 2.02410634e-02, 2.05380541e-02, 2.38163754e-02,\n",
              "        2.58381971e-02, 2.71632329e-02, 2.96762317e-02, 3.22463442e-02,\n",
              "        3.31030483e-02, 3.27375212e-02, 3.58673471e-02, 3.66783603e-02,\n",
              "        3.85516867e-02, 3.99566815e-02, 4.07676948e-02, 3.88829457e-02,\n",
              "        3.87001821e-02, 3.87687184e-02, 3.72494964e-02, 3.62442969e-02,\n",
              "        3.68611239e-02, 3.55475108e-02, 3.28860166e-02, 3.14239082e-02,\n",
              "        2.90251366e-02, 2.72888828e-02, 2.46959249e-02, 2.19316262e-02,\n",
              "        2.07550859e-02, 1.92701320e-02, 1.80821689e-02, 1.42327116e-02,\n",
              "        1.33645847e-02, 1.14798356e-02, 1.00063045e-02, 8.93256860e-03,\n",
              "        7.13920124e-03, 5.90554727e-03, 5.25445212e-03, 4.23782986e-03,\n",
              "        3.83803459e-03, 2.93563955e-03, 2.41019434e-03, 1.79336735e-03,\n",
              "        1.74767646e-03, 1.27934486e-03, 1.08515859e-03, 6.39672431e-04,\n",
              "        6.51095153e-04, 4.45486158e-04, 5.36867934e-04, 2.62722606e-04,\n",
              "        1.48495386e-04, 1.59918108e-04, 7.99590539e-05, 9.13817759e-05,\n",
              "        4.56908880e-05, 1.14227220e-05, 5.71136100e-05, 1.14227220e-05,\n",
              "        0.00000000e+00, 0.00000000e+00, 0.00000000e+00, 1.14227220e-05]),\n",
              " array([-24.9483453 , -24.07289722, -23.19744915, -22.32200107,\n",
              "        -21.44655299, -20.57110492, -19.69565684, -18.82020876,\n",
              "        -17.94476069, -17.06931261, -16.19386453, -15.31841646,\n",
              "        -14.44296838, -13.5675203 , -12.69207222, -11.81662415,\n",
              "        -10.94117607, -10.06572799,  -9.19027992,  -8.31483184,\n",
              "         -7.43938376,  -6.56393569,  -5.68848761,  -4.81303953,\n",
              "         -3.93759146,  -3.06214338,  -2.1866953 ,  -1.31124722,\n",
              "         -0.43579915,   0.43964893,   1.31509701,   2.19054508,\n",
              "          3.06599316,   3.94144124,   4.81688931,   5.69233739,\n",
              "          6.56778547,   7.44323354,   8.31868162,   9.1941297 ,\n",
              "         10.06957778,  10.94502585,  11.82047393,  12.69592201,\n",
              "         13.57137008,  14.44681816,  15.32226624,  16.19771431,\n",
              "         17.07316239,  17.94861047,  18.82405854,  19.69950662,\n",
              "         20.5749547 ,  21.45040278,  22.32585085,  23.20129893,\n",
              "         24.07674701,  24.95219508,  25.82764316,  26.70309124,\n",
              "         27.57853931,  28.45398739,  29.32943547,  30.20488354,\n",
              "         31.08033162,  31.9557797 ,  32.83122778,  33.70667585,\n",
              "         34.58212393,  35.45757201,  36.33302008,  37.20846816,\n",
              "         38.08391624,  38.95936431,  39.83481239,  40.71026047,\n",
              "         41.58570854,  42.46115662,  43.3366047 ,  44.21205278,\n",
              "         45.08750085,  45.96294893,  46.83839701,  47.71384508,\n",
              "         48.58929316,  49.46474124,  50.34018931,  51.21563739,\n",
              "         52.09108547,  52.96653354,  53.84198162,  54.7174297 ,\n",
              "         55.59287778,  56.46832585,  57.34377393,  58.21922201,\n",
              "         59.09467008,  59.97011816,  60.84556624,  61.72101431,\n",
              "         62.59646239]),\n",
              " <a list of 1 Patch objects>)"
            ]
          },
          "metadata": {},
          "execution_count": 2
        },
        {
          "output_type": "display_data",
          "data": {
            "image/png": "[encoded data removed]",
            "text/plain": [
              "<Figure size 432x288 with 1 Axes>"
            ]
          },
          "metadata": {
            "needs_background": "light"
          }
        }
      ]
    },
    {
      "cell_type": "code",
      "metadata": {
        "id": "upgAbkZ0fHFa"
      },
      "source": [
        "def ecdf(data):\n",
        "    \"\"\"Compute ECDF for a one-dimensional array of measurements.\"\"\"\n",
        "    # Number of data points: n\n",
        "    n = len(data)\n",
        "\n",
        "    # x-data for the ECDF: x\n",
        "    x = np.sort(data)\n",
        "\n",
        "    # y-data for the ECDF: y\n",
        "    y = np.arange(1, n+1) / n\n",
        "\n",
        "    return x, y"
      ],
      "execution_count": 3,
      "outputs": []
    },
    {
      "cell_type": "code",
      "metadata": {
        "colab": {
          "base_uri": "https://localhost:8080/",
          "height": 265
        },
        "id": "GYNunBkDwJ_r",
        "outputId": "53cf4b5d-2b0c-455e-816d-543dd775fe45"
      },
      "source": [
        "# Generate CDFs\n",
        "x_std1, y_std1 = ecdf(samples_std1)\n",
        "x_std3, y_std3 = ecdf(samples_std3)\n",
        "x_std10, y_std10 = ecdf(samples_std10)\n",
        "\n",
        "# Plot CDFs\n",
        "plt.plot(x_std1, y_std1, marker='.', linestyle='none')\n",
        "plt.plot(x_std3, y_std3 , marker='.', linestyle='none')\n",
        "plt.plot(x_std10, y_std10, marker='.', linestyle='none')\n",
        "\n",
        "\n",
        "# Make a legend and show the plot\n",
        "_ = plt.legend(('std = 1', 'std = 3', 'std = 10'), loc='lower right')\n",
        "plt.show()"
      ],
      "execution_count": 4,
      "outputs": [
        {
          "output_type": "display_data",
          "data": {
            "image/png": "[encoded data removed]",
            "text/plain": [
              "<Figure size 432x288 with 1 Axes>"
            ]
          },
          "metadata": {
            "needs_background": "light"
          }
        }
      ]
    },
    {
      "cell_type": "code",
      "metadata": {
        "colab": {
          "base_uri": "https://localhost:8080/",
          "height": 279
        },
        "id": "-zeUXD0I4ODF",
        "outputId": "a185e08e-1d30-4ec8-917e-175ceb01b657"
      },
      "source": [
        "import pandas as pd\n",
        "\n",
        "#upload a local file to the colab\n",
        "#from google.colab import files\n",
        "#uploaded = files.upload()\n",
        "\n",
        "#Then you can copy it to the Google drive folder or\n",
        "\n",
        "#import io\n",
        "#df2 = pd.read_csv(io.BytesIO(uploaded['Filename.csv']))\n",
        "\n",
        "#Load a csv file at the Google drive to the colab\n",
        "file_path = r'/content/drive/MyDrive/datasets/belmont_no_outliers.csv'\n",
        "belmont_no_outliers = np.loadtxt(fname=file_path, delimiter=',')\n",
        "\n",
        "# Compute mean and standard deviation: mu, sigma\n",
        "mu = np.mean(belmont_no_outliers)\n",
        "sigma = np.std(belmont_no_outliers)\n",
        "\n",
        "# Sample out of a normal distribution with this mu and sigma: samples\n",
        "samples = np.random.normal(mu, sigma, size= 10000)\n",
        "\n",
        "# Get the CDF of the samples and of the data\n",
        "x_theor, y_theor = ecdf(samples)\n",
        "x, y = ecdf(belmont_no_outliers)\n",
        "\n",
        "\n",
        "# Plot the CDFs and show the plot\n",
        "_ = plt.plot(x_theor, y_theor)\n",
        "_ = plt.plot(x, y, marker='.', linestyle='none')\n",
        "_ = plt.xlabel('Belmont winning time (sec.)')\n",
        "_ = plt.ylabel('CDF')\n",
        "plt.show()"
      ],
      "execution_count": 5,
      "outputs": [
        {
          "output_type": "display_data",
          "data": {
            "image/png": "[encoded data removed]",
            "text/plain": [
              "<Figure size 432x288 with 1 Axes>"
            ]
          },
          "metadata": {
            "needs_background": "light"
          }
        }
      ]
    },
    {
      "cell_type": "code",
      "metadata": {
        "id": "pc0dJeZfB1iE"
      },
      "source": [
        "#!mv /content/belmont_no_outliers.csv /content/drive/MyDrive/datasets"
      ],
      "execution_count": 21,
      "outputs": []
    },
    {
      "cell_type": "markdown",
      "metadata": {
        "id": "ltDwfzkHbftE"
      },
      "source": [
        "#The chances of the occurrence of an event\n",
        ">* With the known cdf, you may simulate that chance: i.e. you may ask a question like 'what is the chance of a horse running as fast or faster than a champion?'"
      ]
    },
    {
      "cell_type": "code",
      "metadata": {
        "colab": {
          "base_uri": "https://localhost:8080/"
        },
        "id": "wO2UujT2cLWr",
        "outputId": "34afb6ee-fbd0-43f2-8785-5a10eac34421"
      },
      "source": [
        "# Take a million samples out of the Normal distribution: samples\n",
        "samples = np.random.normal(mu, sigma, size=1000000)\n",
        "\n",
        "# Compute the fraction that are faster than 144 seconds: prob\n",
        "prob = np.sum(samples<144)/len(samples)\n",
        "\n",
        "# Print the result\n",
        "print('Probability of besting Secretariat:', prob)\n"
      ],
      "execution_count": 9,
      "outputs": [
        {
          "output_type": "stream",
          "text": [
            "Probability of besting Secretariat: 0.00067\n"
          ],
          "name": "stdout"
        }
      ]
    },
    {
      "cell_type": "markdown",
      "metadata": {
        "id": "Fjy1S1eai-Ua"
      },
      "source": [
        "#Exponential distribution\n",
        ">* The waiting time between arrivals of a Poisoon process (such as arrival of a bus) is exponentially distributed.\n",
        ">* Nuclear accident is a rare event so its occurrence is Poisson distributed.  The waiting time for the next accident is exponentially distributed."
      ]
    },
    {
      "cell_type": "code",
      "metadata": {
        "id": "2HNlOkN7oeLE"
      },
      "source": [
        "def successive_poisson(tau1, tau2, size=1):\n",
        "    \"\"\"Compute time for arrival of 2 successive Poisson processes.\"\"\"\n",
        "    # Draw samples out of first exponential distribution: t1\n",
        "    t1 = np.random.exponential(tau1, size)\n",
        "\n",
        "    # Draw samples out of second exponential distribution: t2\n",
        "    t2 = np.random.exponential(tau2, size)\n",
        "\n",
        "    return t1 + t2"
      ],
      "execution_count": 10,
      "outputs": []
    },
    {
      "cell_type": "code",
      "metadata": {
        "colab": {
          "base_uri": "https://localhost:8080/",
          "height": 296
        },
        "id": "YuUhz3BPpdVT",
        "outputId": "48d2c2a2-b768-486b-d513-8a19361f2441"
      },
      "source": [
        "# Draw samples of waiting times: waiting_times (in games)\n",
        "waiting_time_for_nohitter = 764\n",
        "waiting_time_for_cyclehitter = 715\n",
        "waiting_times = successive_poisson(waiting_time_for_nohitter, waiting_time_for_cyclehitter, size= 10000)\n",
        "\n",
        "\n",
        "# Make the histogram\n",
        "plt.hist(waiting_times, bins=100, density = True, histtype = 'step')\n",
        "\n",
        "\n",
        "# Label axes\n",
        "plt.xlabel('Waiting time(games)')\n",
        "plt.ylabel('Distribution')"
      ],
      "execution_count": 24,
      "outputs": [
        {
          "output_type": "execute_result",
          "data": {
            "text/plain": [
              "Text(0, 0.5, 'Distribution')"
            ]
          },
          "metadata": {},
          "execution_count": 24
        },
        {
          "output_type": "display_data",
          "data": {
            "image/png": "[encoded data removed]",
            "text/plain": [
              "<Figure size 432x288 with 1 Axes>"
            ]
          },
          "metadata": {
            "needs_background": "light"
          }
        }
      ]
    },
    {
      "cell_type": "code",
      "metadata": {
        "colab": {
          "base_uri": "https://localhost:8080/",
          "height": 280
        },
        "id": "ISse-4pHzCAa",
        "outputId": "f23951af-9189-4860-81a5-5750e8a71f58"
      },
      "source": [
        "# Compute ECDF: x, y\n",
        "x, y = ecdf(waiting_times)\n",
        "\n",
        "# Plot the ECDF with labeled axes\n",
        "# Generate plot\n",
        "_ = plt.plot(x, y, marker = '.', linestyle = 'none')\n",
        "\n",
        "# Label the axes\n",
        "\n",
        "plt.xlabel('waiting_times')\n",
        "plt.ylabel('CDF')\n",
        "\n",
        "# Show the plot\n",
        "plt.show()\n"
      ],
      "execution_count": 22,
      "outputs": [
        {
          "output_type": "display_data",
          "data": {
            "image/png": "[encoded data removed]",
            "text/plain": [
              "<Figure size 432x288 with 1 Axes>"
            ]
          },
          "metadata": {
            "needs_background": "light"
          }
        }
      ]
    }
  ]
}